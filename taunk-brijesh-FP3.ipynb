{
 "cells": [
  {
   "cell_type": "markdown",
   "id": "f028762b",
   "metadata": {},
   "source": [
    "# Analysis of Crimes reported in Chicago, New York and United States"
   ]
  },
  {
   "cell_type": "markdown",
   "id": "5b05ab1c",
   "metadata": {},
   "source": [
    "# Author: Brijesh Taunk"
   ]
  },
  {
   "cell_type": "markdown",
   "id": "62ad0e17",
   "metadata": {},
   "source": [
    "# Primary dataset summary"
   ]
  },
  {
   "cell_type": "markdown",
   "id": "b934d67d",
   "metadata": {},
   "source": [
    "The dataset gives information about the crimes committed in Chicago City from 2001 to present. It has columns that gives important information like the date of the crime, primary type of the crime (for example: theft, assault, robbery), description of the crime( pocket picking, retail theft), location description where the crime took place (like residence, bus etc.), whether any arrest took place in the case, the location information like district, ward, X and Y coordinates, the year it took place on, latitude and longitude of the location. It also has identity information like case number and ID. It contains a column which gives information whether the crime was Domestic or not.The dataset is regularly updated and it contains a columns which provides information about the time a particular case was last updated. The dataset has a column called \"Beat\" which basically provides information about an area that a particular police officer controls at that time. It has a total of 22 columns which provides all the information related to crime. The data is in CSV format. "
   ]
  },
  {
   "cell_type": "markdown",
   "id": "c0f70c76",
   "metadata": {},
   "source": [
    "Now, we will perform necessary operations on dataset to make an interactive dashboard."
   ]
  },
  {
   "cell_type": "code",
   "execution_count": 1,
   "id": "c5829229",
   "metadata": {},
   "outputs": [],
   "source": [
    "#importing necessary libraries\n",
    "import ipywidgets\n",
    "import matplotlib.pyplot as plt\n",
    "import matplotlib\n",
    "import bqplot\n",
    "%matplotlib inline\n",
    "import bqplot.pyplot\n",
    "import numpy as np\n",
    "import pandas as pd\n",
    "from PIL import Image"
   ]
  },
  {
   "cell_type": "code",
   "execution_count": null,
   "id": "ef1d3645",
   "metadata": {},
   "outputs": [],
   "source": [
    "# loading the data through relative path\n",
    "chicago_crime = pd.read_csv('https://data.cityofchicago.org/api/views/ijzp-q8t2/rows.csv?accessType=DOWNLOAD')"
   ]
  },
  {
   "cell_type": "code",
   "execution_count": null,
   "id": "f59eda52",
   "metadata": {},
   "outputs": [],
   "source": [
    "# reading the dataset\n",
    "chicago_crime"
   ]
  },
  {
   "cell_type": "code",
   "execution_count": null,
   "id": "9b156195",
   "metadata": {},
   "outputs": [],
   "source": [
    "# Cleaning the data and dropping null values\n",
    "chicago_crime_new = chicago_crime.dropna()"
   ]
  },
  {
   "cell_type": "code",
   "execution_count": null,
   "id": "23ea4d2a",
   "metadata": {},
   "outputs": [],
   "source": [
    "#replacing the True and False values in Arrest column by 'Y' and 'N'\n",
    "\n",
    "#Using numpy to replace the True and False values under Arrest column by 'Y' and 'N'\n",
    "chicago_crime_new['Arrest'] = np.where(chicago_crime_new['Arrest'], 'Y', 'N')\n",
    "chicago_crime_new"
   ]
  },
  {
   "cell_type": "code",
   "execution_count": null,
   "id": "2d456674",
   "metadata": {},
   "outputs": [],
   "source": [
    "#creating the datafram using pivot table in pandas\n",
    "pivot_data = pd.pivot_table(chicago_crime_new, index = 'Primary Type', columns = 'Location Description', values = 'ID', aggfunc = 'count', fill_value=0)"
   ]
  },
  {
   "cell_type": "code",
   "execution_count": null,
   "id": "cbcb08c1",
   "metadata": {},
   "outputs": [],
   "source": [
    "#reading the new dataframe\n",
    "pivot_data"
   ]
  },
  {
   "cell_type": "code",
   "execution_count": null,
   "id": "0bbc2fd4",
   "metadata": {},
   "outputs": [],
   "source": [
    "# defining the scales, setting them as ordinal and linear\n",
    "x_scale = bqplot.OrdinalScale()\n",
    "y_scale = bqplot.LinearScale()\n",
    "\n",
    "# setting the axes, x and y and assigning labels and scales\n",
    "x_axis = bqplot.Axis(label='Arrest Made or Not', scale=x_scale)\n",
    "y_axis = bqplot.Axis(label='Count', scale=y_scale, \n",
    "                   orientation = 'vertical')\n",
    "\n",
    "# creating the barplot mark and assigning scales\n",
    "plot = bqplot.pyplot.bar(x = ['Y', 'N'], \n",
    "                         y = [0, 0],\n",
    "                         scales={'x':x_scale, 'y':y_scale})\n",
    "\n",
    "graph = bqplot.Figure(marks=[plot], axes=[x_axis,y_axis])"
   ]
  },
  {
   "cell_type": "code",
   "execution_count": null,
   "id": "4925c33d",
   "metadata": {},
   "outputs": [],
   "source": [
    "# defining the color scale for heatmap. Using NumPy nanmin and nanmax to calculate min and max for dataset\n",
    "col_sc = bqplot.ColorScale(scheme='Red', min=float(np.nanmin(pivot_data)), max=float(np.nanmax(pivot_data)))\n",
    "x_sc = bqplot.OrdinalScale()\n",
    "y_sc = bqplot.OrdinalScale() \n",
    "\n",
    "#define the axis for our heatmap and assigning the labels and scales \n",
    "col_ax = bqplot.ColorAxis(scale=col_sc, orientation='vertical', side='right')\n",
    "x_ax = bqplot.Axis(scale=x_sc, label='Primary Type')\n",
    "y_ax = bqplot.Axis(scale=y_sc, orientation='vertical', label='Location Description')"
   ]
  },
  {
   "cell_type": "code",
   "execution_count": null,
   "id": "1c1d0930",
   "metadata": {},
   "outputs": [],
   "source": [
    "# Creating the heat map   \n",
    "heat_map = bqplot.GridHeatMap(color=pivot_data.values, \n",
    "                             row = pivot_data.index, column = pivot_data.columns, \n",
    "                             scales={'color':col_sc, 'row':y_sc, 'column':x_sc}, \n",
    "                             interactions={'click':'select'}, \n",
    "                             anchor_style={'fill':'blue'})"
   ]
  },
  {
   "cell_type": "code",
   "execution_count": null,
   "id": "aeafc402",
   "metadata": {},
   "outputs": [],
   "source": [
    "#passing the parameters x and y from plot function\n",
    "def barplot(x, y):\n",
    "    print('X: ' + x)\n",
    "    print('Y: ' + y)\n",
    "    df = chicago_crime_new[(chicago_crime_new['Primary Type'] == x) & (chicago_crime_new['Location Description'] == y)]\n",
    "    # Counting the groupby of the Arrest column data with case ID\n",
    "    df = df.groupby('Arrest')['ID'].count()\n",
    "    return df"
   ]
  },
  {
   "cell_type": "markdown",
   "id": "80631924",
   "metadata": {},
   "source": [
    "# Interactive Visualization using Primary dataset"
   ]
  },
  {
   "cell_type": "code",
   "execution_count": null,
   "id": "45d4ba5f",
   "metadata": {},
   "outputs": [],
   "source": [
    "# creating a mySelectedLabel for the value selected by the user\n",
    "mySelectedLabel = ipywidgets.Label()\n",
    "\n",
    "def on_select(change):\n",
    "     # setting up a constraint to choose only one box\n",
    "    if len(change['owner'].selected) == 1: \n",
    "        i,j = change['owner'].selected[0]\n",
    "        v = pivot_data.values[i,j]\n",
    "        dataset_latest = barplot(pivot_data.index[i], pivot_data.columns[j])\n",
    "        print(dataset_latest)\n",
    "        plot.x = dataset_latest.index.to_list()\n",
    "        plot.y = dataset_latest.to_list()\n",
    "        \n",
    "heat_map.observe(on_select, 'selected')\n",
    "\n",
    "heatmap_figure = bqplot.Figure(marks=[heat_map], axes=[col_ax, x_ax, y_ax], fig_margin={'top':0, 'bottom':100, 'left':250, 'right':100})\n",
    "\n",
    "heatmap_figure.layout.min_width = '1200px'\n",
    "graph.layout.min_width = '1200px'\n",
    "myDashboard1 = ipywidgets.HBox([heatmap_figure, graph])\n",
    "myDashboard = ipywidgets.VBox([mySelectedLabel, myDashboard1])\n",
    "myDashboard"
   ]
  },
  {
   "cell_type": "markdown",
   "id": "1f511196",
   "metadata": {},
   "source": [
    "The above interactive visualization and dashboard presents a heat map to us. It contains two columns in the heat map, first is 'Primary Type', which shows the type of crime committed, and 'Location Description', which shows the category of place where crime was committed. Whenever we click on any cell in heat map, a bar plot will be created on the right side, which will show how many arrests have been committed for the total number of crimes committed, and how many number of cases are there in which no arrest was made. The bar plot generated on the right uses another column 'Arrest' from the dataset. It shows 'Yes' or 'No' for arrests made in any particular case. The bar plot generated has Count on the Y-axis, and 'Yes' and 'No', for depicting arrests made, on the X-axis."
   ]
  },
  {
   "cell_type": "markdown",
   "id": "4da714c5",
   "metadata": {},
   "source": [
    "# Second Visualization using Primary dataset"
   ]
  },
  {
   "cell_type": "code",
   "execution_count": null,
   "id": "730142bc",
   "metadata": {},
   "outputs": [],
   "source": [
    "#Using GroupBy and count on Primary Type column\n",
    "crime_type = chicago_crime_new.groupby('Primary Type')['Primary Type'].count()"
   ]
  },
  {
   "cell_type": "code",
   "execution_count": null,
   "id": "c1619ed4",
   "metadata": {},
   "outputs": [],
   "source": [
    "crime_type"
   ]
  },
  {
   "cell_type": "code",
   "execution_count": null,
   "id": "962aae7d",
   "metadata": {},
   "outputs": [],
   "source": [
    "crime_type.plot.bar(figsize = (25, 15), xlabel= \"Primary Type\", ylabel = \"Count\", title = \"Different types of Crime committed\")"
   ]
  },
  {
   "cell_type": "markdown",
   "id": "0be31810",
   "metadata": {},
   "source": [
    "The above bar chart depicts the crimes occured in Chicago City from 2001 to 2021. It shows crime types and number of times they were committed. The number is shown in Millions. X axis shows the 'Crime Type' and Y axis shows the number of times a particular crime was committed. We can see that 'theft' was the most committed crime in the city. 'Battery' a type of assault, was the second highest type of crime committed. Apart from that 'Criminal damage' and 'Narcotics' are also committed on major basis. We can also see that number of cases of 'Kidnapping', 'license violation', 'Intimidation' and some few more crimes are low, when compared to 'Theft' and 'Assault'."
   ]
  },
  {
   "cell_type": "markdown",
   "id": "10b2cce4",
   "metadata": {},
   "source": [
    "# Contextual Visualization 1"
   ]
  },
  {
   "cell_type": "code",
   "execution_count": null,
   "id": "b25fb27e",
   "metadata": {},
   "outputs": [],
   "source": [
    "viz1 = Image.open(\"viz1.png\") "
   ]
  },
  {
   "cell_type": "code",
   "execution_count": null,
   "id": "4e6df7ec",
   "metadata": {},
   "outputs": [],
   "source": [
    "viz1"
   ]
  },
  {
   "cell_type": "markdown",
   "id": "9047cca9",
   "metadata": {},
   "source": [
    "Above we have a visualization that depicts different types of crime rate in United States from 1991 to 2017. It is stated in form of number of cases per 100,000 people. My original dataset also contains crime cases of Chicago. The above visualization contains line charts of different crimes such as Robbery rate, burglary rate, aggravated assault, violent crime rate, larceny-theft rate, motor vehicle theft rate, property crime rate, and murder rate. We can see that every type of crime rate has dropped more than half of what the rate was in 1991. We can see that ‘Property Crime rate’ is very high than other crimes. Similar to our analysis of crimes done in Chicago’s crime primary dataset, we can also see a higher rate of Theft and assault, that shows that theft and assault consists of the major number of crimes in US."
   ]
  },
  {
   "cell_type": "markdown",
   "id": "dc5c5f33",
   "metadata": {},
   "source": [
    "# Contextual Visualization 2"
   ]
  },
  {
   "cell_type": "code",
   "execution_count": null,
   "id": "83c872c0",
   "metadata": {},
   "outputs": [],
   "source": [
    "viz2 = Image.open(\"viz2.png\")"
   ]
  },
  {
   "cell_type": "code",
   "execution_count": null,
   "id": "d6b36f25",
   "metadata": {},
   "outputs": [],
   "source": [
    "viz2"
   ]
  },
  {
   "cell_type": "markdown",
   "id": "3e924e05",
   "metadata": {},
   "source": [
    "In the above bar chart, we have the visualization of crime cases of New York City from 2006 to 2019.  I have taken this visualization of New York City to compare the crime pattern with Chicago city. In graph, X axis shows the count of type of crime, while Y axis shows the different types of crimes reported in city. We can see that Larceny is the most committed crime in New York too. In my analysis of Chicago crime data, theft was the most frequently committed crime. Assault, and drugs are the other most reported crimes in New York. The same pattern was found in Chicago city in my analysis. We can conclude that there are major similarities in types of crimes committed in Chicago, and New York city."
   ]
  },
  {
   "cell_type": "markdown",
   "id": "93ab59e6",
   "metadata": {},
   "source": [
    "References: My Final Project Part 2. \n",
    "\n",
    "Link to dataset: Publisher data.cityofchicago.org. (2022, May 5). Crimes - 2001 to present. Crimes - 2001 to Present - CKAN. Retrieved May 6, 2022, from https://catalog.data.gov/dataset/crimes-2001-to-present \n",
    "\n",
    "Citation of my first contextual visualization: Routley, N. (2019, March 12). The Crime Rate Perception Gap. Visual Capitalist. Retrieved May 6, 2022, from https://www.visualcapitalist.com/crime-rate-perception-gap/ \n",
    "\n",
    "Citation of my first contextual visualization: Mendes, B. (2021, February 27). Analysis of NYC reported crime data using pandas. Medium. Retrieved May 6, 2022, from https://towardsdatascience.com/analysis-of-nyc-reported-crime-data-using-pandas-821753cd7e22 "
   ]
  },
  {
   "cell_type": "code",
   "execution_count": null,
   "id": "605c9526",
   "metadata": {},
   "outputs": [],
   "source": []
  }
 ],
 "metadata": {
  "kernelspec": {
   "display_name": "Python 3 (ipykernel)",
   "language": "python",
   "name": "python3"
  },
  "language_info": {
   "codemirror_mode": {
    "name": "ipython",
    "version": 3
   },
   "file_extension": ".py",
   "mimetype": "text/x-python",
   "name": "python",
   "nbconvert_exporter": "python",
   "pygments_lexer": "ipython3",
   "version": "3.8.12"
  }
 },
 "nbformat": 4,
 "nbformat_minor": 5
}
